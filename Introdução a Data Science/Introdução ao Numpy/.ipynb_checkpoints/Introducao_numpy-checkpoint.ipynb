{
 "cells": [
  {
   "cell_type": "code",
   "execution_count": 1,
   "id": "375324fc-1f39-4778-a186-35e9c730f643",
   "metadata": {},
   "outputs": [],
   "source": [
    "import numpy as np"
   ]
  },
  {
   "cell_type": "code",
   "execution_count": 2,
   "id": "cc391dbf-3b6a-44cf-87f6-93ec51e76100",
   "metadata": {},
   "outputs": [],
   "source": [
    "lista = [1, 2, 3, 4, 5, 6]\n",
    "\n",
    "array = np.array(lista)"
   ]
  },
  {
   "cell_type": "code",
   "execution_count": 4,
   "id": "acdae9fb-54ed-48f0-a0c6-adadb1f87fcf",
   "metadata": {},
   "outputs": [
    {
     "name": "stdout",
     "output_type": "stream",
     "text": [
      "<class 'list'>\n",
      "<class 'numpy.ndarray'>\n"
     ]
    }
   ],
   "source": [
    "print(type(lista))\n",
    "print(type(array))"
   ]
  },
  {
   "cell_type": "code",
   "execution_count": 5,
   "id": "eef331b4-21f6-4736-9f37-da4019b93dd9",
   "metadata": {},
   "outputs": [
    {
     "name": "stdout",
     "output_type": "stream",
     "text": [
      "[0. 0. 0. 0. 0. 0. 0. 0. 0. 0.]\n"
     ]
    }
   ],
   "source": [
    "arr_zeros = np.zeros(10)\n",
    "\n",
    "print(arr_zeros)"
   ]
  },
  {
   "cell_type": "code",
   "execution_count": 6,
   "id": "dc1753e9-edf0-4db0-b72c-bfc0bc2d9ee7",
   "metadata": {},
   "outputs": [
    {
     "name": "stdout",
     "output_type": "stream",
     "text": [
      "[9 2 3 4 5 6]\n"
     ]
    }
   ],
   "source": [
    "array[0] = 9\n",
    "print(array)"
   ]
  },
  {
   "cell_type": "code",
   "execution_count": 9,
   "id": "927b2dbb-396e-4385-b859-94a34e9112a1",
   "metadata": {},
   "outputs": [
    {
     "name": "stdout",
     "output_type": "stream",
     "text": [
      "[[0. 0. 0.]\n",
      " [0. 0. 0.]\n",
      " [0. 0. 0.]\n",
      " [0. 0. 0.]\n",
      " [0. 0. 0.]]\n"
     ]
    }
   ],
   "source": [
    "## matrizes\n",
    "matriz_zeros = np.zeros((5, 3))\n",
    "print(matriz_zeros)"
   ]
  },
  {
   "cell_type": "code",
   "execution_count": 10,
   "id": "870b304f-ab93-4aa7-b99b-ab4be02e957c",
   "metadata": {},
   "outputs": [],
   "source": [
    "## Notas de alunos\n",
    "lista_de_notas = [9.8, 5.6, 7.8, 9.1, 6.5]\n",
    "notas = np.array(lista_de_notas)"
   ]
  },
  {
   "cell_type": "code",
   "execution_count": 11,
   "id": "0bfbb3cd-6705-4278-9df0-b819f5fe89de",
   "metadata": {},
   "outputs": [
    {
     "name": "stdout",
     "output_type": "stream",
     "text": [
      "Maximo 9.8\n",
      "Mínimo 5.6\n",
      "Desvio Padrao 7.76\n",
      "Posicao menor 1\n"
     ]
    }
   ],
   "source": [
    "print('Maximo', notas.max())\n",
    "print('Mínimo', notas.min())\n",
    "print('Desvio Padrao', notas.mean())\n",
    "print('Posicao menor', notas.argmin())"
   ]
  },
  {
   "cell_type": "code",
   "execution_count": null,
   "id": "74a1fb12-c985-4573-a5f8-9a369a92fc02",
   "metadata": {},
   "outputs": [],
   "source": []
  }
 ],
 "metadata": {
  "kernelspec": {
   "display_name": "Python 3 (ipykernel)",
   "language": "python",
   "name": "python3"
  },
  "language_info": {
   "codemirror_mode": {
    "name": "ipython",
    "version": 3
   },
   "file_extension": ".py",
   "mimetype": "text/x-python",
   "name": "python",
   "nbconvert_exporter": "python",
   "pygments_lexer": "ipython3",
   "version": "3.12.3"
  }
 },
 "nbformat": 4,
 "nbformat_minor": 5
}
