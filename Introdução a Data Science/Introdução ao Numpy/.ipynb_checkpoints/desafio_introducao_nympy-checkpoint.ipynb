{
 "cells": [
  {
   "cell_type": "code",
   "execution_count": 12,
   "id": "9dc6dfb8-50d9-4c60-ac7f-476a80f10e61",
   "metadata": {},
   "outputs": [],
   "source": [
    "import numpy as np"
   ]
  },
  {
   "cell_type": "code",
   "execution_count": 14,
   "id": "811eb42a-2ef8-44ee-a63c-7699a6b5216d",
   "metadata": {},
   "outputs": [],
   "source": [
    "## Desafio\n",
    "## Escrever um programa para praticar que você peça para o usuário digitar 10 números que serão notas de alunos.\n",
    "## Transformar em array do numpy\n",
    "## Fazer operações como, média, desvio padrao etc.."
   ]
  },
  {
   "cell_type": "code",
   "execution_count": 15,
   "id": "eb378dfd-9032-42ea-b957-822b9fa2835f",
   "metadata": {},
   "outputs": [],
   "source": [
    "notas = []"
   ]
  },
  {
   "cell_type": "code",
   "execution_count": 21,
   "id": "7b4146f4-e5f2-49ad-b736-4f78bac0c29f",
   "metadata": {},
   "outputs": [
    {
     "name": "stdin",
     "output_type": "stream",
     "text": [
      "Digite a nota do aluno:  9.8\n",
      "Digite a nota do aluno:  7.6\n",
      "Digite a nota do aluno:  5.7\n",
      "Digite a nota do aluno:  6\n",
      "Digite a nota do aluno:  8.8\n",
      "Digite a nota do aluno:  7.8\n",
      "Digite a nota do aluno:  6.6\n",
      "Digite a nota do aluno:  5.5\n",
      "Digite a nota do aluno:  9\n",
      "Digite a nota do aluno:  7.2\n"
     ]
    }
   ],
   "source": [
    "## Loop para coletar 10 notas\n",
    "\n",
    "for i in range(10):\n",
    "    ##Solicita a nota do aluno\n",
    "    nota = float(input(\"Digite a nota do aluno: \"))\n",
    "    ## adiciona as notas à lista\n",
    "    notas.append(nota)"
   ]
  },
  {
   "cell_type": "code",
   "execution_count": 22,
   "id": "2891c8bb-aa1b-4c00-ad00-b07a8898ffa8",
   "metadata": {},
   "outputs": [],
   "source": [
    "##Transformar em array do numpy\n",
    "\n",
    "array = np.array(notas)"
   ]
  },
  {
   "cell_type": "code",
   "execution_count": 23,
   "id": "1610f9d4-006f-4df3-975b-37a9045d2fcc",
   "metadata": {},
   "outputs": [
    {
     "name": "stdout",
     "output_type": "stream",
     "text": [
      "Built-in mutable sequence.\n",
      "\n",
      "If no argument is given, the constructor creates a new empty list.\n",
      "The argument must be an iterable if specified.\n"
     ]
    }
   ],
   "source": [
    "np.info(notas)"
   ]
  },
  {
   "cell_type": "code",
   "execution_count": 24,
   "id": "fa1b4c00-abe8-4436-b56d-d0ed9750db27",
   "metadata": {},
   "outputs": [
    {
     "ename": "AttributeError",
     "evalue": "module 'numpy' has no attribute 'describe'",
     "output_type": "error",
     "traceback": [
      "\u001b[1;31m---------------------------------------------------------------------------\u001b[0m",
      "\u001b[1;31mAttributeError\u001b[0m                            Traceback (most recent call last)",
      "Cell \u001b[1;32mIn[24], line 1\u001b[0m\n\u001b[1;32m----> 1\u001b[0m \u001b[43mnp\u001b[49m\u001b[38;5;241;43m.\u001b[39;49m\u001b[43mdescribe\u001b[49m(notas)\n",
      "File \u001b[1;32m~\\AppData\\Local\\Programs\\Python\\Python312\\Lib\\site-packages\\numpy\\__init__.py:347\u001b[0m, in \u001b[0;36m__getattr__\u001b[1;34m(attr)\u001b[0m\n\u001b[0;32m    344\u001b[0m     \u001b[38;5;124m\"\u001b[39m\u001b[38;5;124mRemoved in NumPy 1.25.0\u001b[39m\u001b[38;5;124m\"\u001b[39m\n\u001b[0;32m    345\u001b[0m     \u001b[38;5;28;01mraise\u001b[39;00m \u001b[38;5;167;01mRuntimeError\u001b[39;00m(\u001b[38;5;124m\"\u001b[39m\u001b[38;5;124mTester was removed in NumPy 1.25.\u001b[39m\u001b[38;5;124m\"\u001b[39m)\n\u001b[1;32m--> 347\u001b[0m \u001b[38;5;28;01mraise\u001b[39;00m \u001b[38;5;167;01mAttributeError\u001b[39;00m(\u001b[38;5;124m\"\u001b[39m\u001b[38;5;124mmodule \u001b[39m\u001b[38;5;132;01m{!r}\u001b[39;00m\u001b[38;5;124m has no attribute \u001b[39m\u001b[38;5;124m\"\u001b[39m\n\u001b[0;32m    348\u001b[0m                      \u001b[38;5;124m\"\u001b[39m\u001b[38;5;132;01m{!r}\u001b[39;00m\u001b[38;5;124m\"\u001b[39m\u001b[38;5;241m.\u001b[39mformat(\u001b[38;5;18m__name__\u001b[39m, attr))\n",
      "\u001b[1;31mAttributeError\u001b[0m: module 'numpy' has no attribute 'describe'"
     ]
    }
   ],
   "source": [
    "np.describe(notas)"
   ]
  },
  {
   "cell_type": "code",
   "execution_count": 25,
   "id": "2fbc3105-cec9-4bae-933c-d7cb996cf84b",
   "metadata": {},
   "outputs": [
    {
     "data": {
      "text/plain": [
       "7.4"
      ]
     },
     "execution_count": 25,
     "metadata": {},
     "output_type": "execute_result"
    }
   ],
   "source": [
    "np.mean(notas)"
   ]
  },
  {
   "cell_type": "code",
   "execution_count": 26,
   "id": "c374f0b6-c25e-456f-a1ae-171c71f707cf",
   "metadata": {},
   "outputs": [
    {
     "data": {
      "text/plain": [
       "5.5"
      ]
     },
     "execution_count": 26,
     "metadata": {},
     "output_type": "execute_result"
    }
   ],
   "source": [
    "np.min(notas)"
   ]
  },
  {
   "cell_type": "code",
   "execution_count": 27,
   "id": "13f7dc6f-4840-43f8-b2e3-2a66a71dcbb5",
   "metadata": {},
   "outputs": [
    {
     "ename": "SyntaxError",
     "evalue": "invalid syntax (2797527094.py, line 1)",
     "output_type": "error",
     "traceback": [
      "\u001b[1;36m  Cell \u001b[1;32mIn[27], line 1\u001b[1;36m\u001b[0m\n\u001b[1;33m    np.50%(notas)\u001b[0m\n\u001b[1;37m      ^\u001b[0m\n\u001b[1;31mSyntaxError\u001b[0m\u001b[1;31m:\u001b[0m invalid syntax\n"
     ]
    }
   ],
   "source": [
    "np.50%(notas)"
   ]
  },
  {
   "cell_type": "code",
   "execution_count": 28,
   "id": "d81e975d-5ff5-4dba-b2d6-0a9edb7c9458",
   "metadata": {},
   "outputs": [
    {
     "data": {
      "text/plain": [
       "74.0"
      ]
     },
     "execution_count": 28,
     "metadata": {},
     "output_type": "execute_result"
    }
   ],
   "source": [
    "np.sum(notas)"
   ]
  },
  {
   "cell_type": "code",
   "execution_count": 29,
   "id": "677b66ab-7e36-46e1-917d-dd9fb3e8e7c8",
   "metadata": {},
   "outputs": [
    {
     "ename": "AttributeError",
     "evalue": "module 'numpy' has no attribute 'count'",
     "output_type": "error",
     "traceback": [
      "\u001b[1;31m---------------------------------------------------------------------------\u001b[0m",
      "\u001b[1;31mAttributeError\u001b[0m                            Traceback (most recent call last)",
      "Cell \u001b[1;32mIn[29], line 1\u001b[0m\n\u001b[1;32m----> 1\u001b[0m \u001b[43mnp\u001b[49m\u001b[38;5;241;43m.\u001b[39;49m\u001b[43mcount\u001b[49m(notas)\n",
      "File \u001b[1;32m~\\AppData\\Local\\Programs\\Python\\Python312\\Lib\\site-packages\\numpy\\__init__.py:347\u001b[0m, in \u001b[0;36m__getattr__\u001b[1;34m(attr)\u001b[0m\n\u001b[0;32m    344\u001b[0m     \u001b[38;5;124m\"\u001b[39m\u001b[38;5;124mRemoved in NumPy 1.25.0\u001b[39m\u001b[38;5;124m\"\u001b[39m\n\u001b[0;32m    345\u001b[0m     \u001b[38;5;28;01mraise\u001b[39;00m \u001b[38;5;167;01mRuntimeError\u001b[39;00m(\u001b[38;5;124m\"\u001b[39m\u001b[38;5;124mTester was removed in NumPy 1.25.\u001b[39m\u001b[38;5;124m\"\u001b[39m)\n\u001b[1;32m--> 347\u001b[0m \u001b[38;5;28;01mraise\u001b[39;00m \u001b[38;5;167;01mAttributeError\u001b[39;00m(\u001b[38;5;124m\"\u001b[39m\u001b[38;5;124mmodule \u001b[39m\u001b[38;5;132;01m{!r}\u001b[39;00m\u001b[38;5;124m has no attribute \u001b[39m\u001b[38;5;124m\"\u001b[39m\n\u001b[0;32m    348\u001b[0m                      \u001b[38;5;124m\"\u001b[39m\u001b[38;5;132;01m{!r}\u001b[39;00m\u001b[38;5;124m\"\u001b[39m\u001b[38;5;241m.\u001b[39mformat(\u001b[38;5;18m__name__\u001b[39m, attr))\n",
      "\u001b[1;31mAttributeError\u001b[0m: module 'numpy' has no attribute 'count'"
     ]
    }
   ],
   "source": [
    "np.count(notas)"
   ]
  },
  {
   "cell_type": "code",
   "execution_count": null,
   "id": "0abfce96-c9ef-467b-9a14-120b570fe68a",
   "metadata": {},
   "outputs": [],
   "source": []
  }
 ],
 "metadata": {
  "kernelspec": {
   "display_name": "Python 3 (ipykernel)",
   "language": "python",
   "name": "python3"
  },
  "language_info": {
   "codemirror_mode": {
    "name": "ipython",
    "version": 3
   },
   "file_extension": ".py",
   "mimetype": "text/x-python",
   "name": "python",
   "nbconvert_exporter": "python",
   "pygments_lexer": "ipython3",
   "version": "3.12.3"
  }
 },
 "nbformat": 4,
 "nbformat_minor": 5
}
