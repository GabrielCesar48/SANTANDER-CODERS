{
 "cells": [
  {
   "cell_type": "code",
   "execution_count": 1,
   "id": "45904c70-8ab8-4cb3-9cc7-c111b5e3f59f",
   "metadata": {},
   "outputs": [],
   "source": [
    "import pandas as pd"
   ]
  },
  {
   "cell_type": "code",
   "execution_count": 7,
   "id": "fa7700f2-338c-4beb-a9fc-b6fad9895a04",
   "metadata": {},
   "outputs": [],
   "source": [
    "dictionary = {'Autores' : ['Rick Riordan', 'J.K. Rowling', 'Machado de Assis'],\n",
    "             'Titulos' : ['O ladrão de Raios', 'Harry Potter e a Pedra Filosofal', 'Memórias Postumas de Brás Cubas'],\n",
    "             'Preços' : [41.2, 59.9, 18.5]}"
   ]
  },
  {
   "cell_type": "code",
   "execution_count": 9,
   "id": "92c4e439-a845-4cba-821f-b22c6ff9d992",
   "metadata": {},
   "outputs": [],
   "source": [
    "df = pd.DataFrame(dictionary)"
   ]
  },
  {
   "cell_type": "code",
   "execution_count": 10,
   "id": "09287d91-fd18-4f88-af7c-098151d4c769",
   "metadata": {},
   "outputs": [
    {
     "data": {
      "text/html": [
       "<div>\n",
       "<style scoped>\n",
       "    .dataframe tbody tr th:only-of-type {\n",
       "        vertical-align: middle;\n",
       "    }\n",
       "\n",
       "    .dataframe tbody tr th {\n",
       "        vertical-align: top;\n",
       "    }\n",
       "\n",
       "    .dataframe thead th {\n",
       "        text-align: right;\n",
       "    }\n",
       "</style>\n",
       "<table border=\"1\" class=\"dataframe\">\n",
       "  <thead>\n",
       "    <tr style=\"text-align: right;\">\n",
       "      <th></th>\n",
       "      <th>Autores</th>\n",
       "      <th>Titulos</th>\n",
       "      <th>Preços</th>\n",
       "    </tr>\n",
       "  </thead>\n",
       "  <tbody>\n",
       "    <tr>\n",
       "      <th>0</th>\n",
       "      <td>Rick Riordan</td>\n",
       "      <td>O ladrão de Raios</td>\n",
       "      <td>41.2</td>\n",
       "    </tr>\n",
       "    <tr>\n",
       "      <th>1</th>\n",
       "      <td>J.K. Rowling</td>\n",
       "      <td>Harry Potter e a Pedra Filosofal</td>\n",
       "      <td>59.9</td>\n",
       "    </tr>\n",
       "    <tr>\n",
       "      <th>2</th>\n",
       "      <td>Machado de Assis</td>\n",
       "      <td>Memórias Postumas de Brás Cubas</td>\n",
       "      <td>18.5</td>\n",
       "    </tr>\n",
       "  </tbody>\n",
       "</table>\n",
       "</div>"
      ],
      "text/plain": [
       "            Autores                           Titulos  Preços\n",
       "0      Rick Riordan                 O ladrão de Raios    41.2\n",
       "1      J.K. Rowling  Harry Potter e a Pedra Filosofal    59.9\n",
       "2  Machado de Assis   Memórias Postumas de Brás Cubas    18.5"
      ]
     },
     "execution_count": 10,
     "metadata": {},
     "output_type": "execute_result"
    }
   ],
   "source": [
    "df"
   ]
  },
  {
   "cell_type": "code",
   "execution_count": 11,
   "id": "7921b04e-3c58-40b1-bda6-6086cc0ce045",
   "metadata": {},
   "outputs": [
    {
     "data": {
      "text/plain": [
       "0        Rick Riordan\n",
       "1        J.K. Rowling\n",
       "2    Machado de Assis\n",
       "Name: Autores, dtype: object"
      ]
     },
     "execution_count": 11,
     "metadata": {},
     "output_type": "execute_result"
    }
   ],
   "source": [
    "df['Autores']"
   ]
  },
  {
   "cell_type": "code",
   "execution_count": 14,
   "id": "421042be-c231-4a40-b610-f7bdfef2df3d",
   "metadata": {},
   "outputs": [
    {
     "data": {
      "text/plain": [
       "'J.K. Rowling'"
      ]
     },
     "execution_count": 14,
     "metadata": {},
     "output_type": "execute_result"
    }
   ],
   "source": [
    "df['Autores'][1]"
   ]
  },
  {
   "cell_type": "code",
   "execution_count": 18,
   "id": "67f263ce-b7f8-4525-b958-25007e3bc84d",
   "metadata": {},
   "outputs": [
    {
     "data": {
      "text/plain": [
       "0    41.2\n",
       "1    59.9\n",
       "2    18.5\n",
       "Name: Preços, dtype: float64"
      ]
     },
     "execution_count": 18,
     "metadata": {},
     "output_type": "execute_result"
    }
   ],
   "source": [
    "df['Preços']"
   ]
  },
  {
   "cell_type": "code",
   "execution_count": 19,
   "id": "ec477e5b-52c1-461c-bd9e-a93c8e710312",
   "metadata": {},
   "outputs": [
    {
     "data": {
      "text/plain": [
       "39.86666666666667"
      ]
     },
     "execution_count": 19,
     "metadata": {},
     "output_type": "execute_result"
    }
   ],
   "source": [
    "df['Preços'].mean()"
   ]
  },
  {
   "cell_type": "code",
   "execution_count": 22,
   "id": "eb80cf87-75db-4b7a-8e83-c9b511bd1340",
   "metadata": {},
   "outputs": [],
   "source": [
    "mascara = (df['Autores'] == 'J.K. Rowling')"
   ]
  },
  {
   "cell_type": "code",
   "execution_count": 23,
   "id": "6d67ba75-ba1a-43e6-b60b-8d4eb664aed5",
   "metadata": {},
   "outputs": [
    {
     "data": {
      "text/html": [
       "<div>\n",
       "<style scoped>\n",
       "    .dataframe tbody tr th:only-of-type {\n",
       "        vertical-align: middle;\n",
       "    }\n",
       "\n",
       "    .dataframe tbody tr th {\n",
       "        vertical-align: top;\n",
       "    }\n",
       "\n",
       "    .dataframe thead th {\n",
       "        text-align: right;\n",
       "    }\n",
       "</style>\n",
       "<table border=\"1\" class=\"dataframe\">\n",
       "  <thead>\n",
       "    <tr style=\"text-align: right;\">\n",
       "      <th></th>\n",
       "      <th>Autores</th>\n",
       "      <th>Titulos</th>\n",
       "      <th>Preços</th>\n",
       "    </tr>\n",
       "  </thead>\n",
       "  <tbody>\n",
       "    <tr>\n",
       "      <th>1</th>\n",
       "      <td>J.K. Rowling</td>\n",
       "      <td>Harry Potter e a Pedra Filosofal</td>\n",
       "      <td>59.9</td>\n",
       "    </tr>\n",
       "  </tbody>\n",
       "</table>\n",
       "</div>"
      ],
      "text/plain": [
       "        Autores                           Titulos  Preços\n",
       "1  J.K. Rowling  Harry Potter e a Pedra Filosofal    59.9"
      ]
     },
     "execution_count": 23,
     "metadata": {},
     "output_type": "execute_result"
    }
   ],
   "source": [
    "df[mascara]"
   ]
  },
  {
   "cell_type": "code",
   "execution_count": 35,
   "id": "2a52231c-c903-4dfc-b3fe-3857f2955db9",
   "metadata": {},
   "outputs": [],
   "source": [
    "##Novo Registro\n",
    "livro_hp2 = {'Autores' : 'J. K. Rowling', 'Titulos' : 'Harry Potter e a Câmara Secreta', 'Preços' : 59.9}"
   ]
  },
  {
   "cell_type": "code",
   "execution_count": 42,
   "id": "9aaebea9-2c97-4096-a55f-3f646928c07b",
   "metadata": {},
   "outputs": [],
   "source": [
    "##Adicionar a nova linha ao DataFrame existente usando concat\n",
    "\n",
    "df = pd.concat([df, pd.DataFrame([livro_hp2])], ignore_index = True)"
   ]
  },
  {
   "cell_type": "code",
   "execution_count": 46,
   "id": "47d8383d-f160-4619-b9e3-57bdba1b9aaf",
   "metadata": {},
   "outputs": [
    {
     "data": {
      "text/html": [
       "<div>\n",
       "<style scoped>\n",
       "    .dataframe tbody tr th:only-of-type {\n",
       "        vertical-align: middle;\n",
       "    }\n",
       "\n",
       "    .dataframe tbody tr th {\n",
       "        vertical-align: top;\n",
       "    }\n",
       "\n",
       "    .dataframe thead th {\n",
       "        text-align: right;\n",
       "    }\n",
       "</style>\n",
       "<table border=\"1\" class=\"dataframe\">\n",
       "  <thead>\n",
       "    <tr style=\"text-align: right;\">\n",
       "      <th></th>\n",
       "      <th>Autores</th>\n",
       "      <th>Titulos</th>\n",
       "      <th>Preços</th>\n",
       "    </tr>\n",
       "  </thead>\n",
       "  <tbody>\n",
       "    <tr>\n",
       "      <th>0</th>\n",
       "      <td>Rick Riordan</td>\n",
       "      <td>O ladrão de Raios</td>\n",
       "      <td>41.2</td>\n",
       "    </tr>\n",
       "    <tr>\n",
       "      <th>1</th>\n",
       "      <td>J.K. Rowling</td>\n",
       "      <td>Harry Potter e a Pedra Filosofal</td>\n",
       "      <td>59.9</td>\n",
       "    </tr>\n",
       "    <tr>\n",
       "      <th>2</th>\n",
       "      <td>Machado de Assis</td>\n",
       "      <td>Memórias Postumas de Brás Cubas</td>\n",
       "      <td>18.5</td>\n",
       "    </tr>\n",
       "    <tr>\n",
       "      <th>3</th>\n",
       "      <td>J. K. Rowling</td>\n",
       "      <td>Harry Potter e a Câmara Secreta</td>\n",
       "      <td>59.9</td>\n",
       "    </tr>\n",
       "    <tr>\n",
       "      <th>4</th>\n",
       "      <td>J. K. Rowling</td>\n",
       "      <td>Harry Potter e a Câmara Secreta</td>\n",
       "      <td>59.9</td>\n",
       "    </tr>\n",
       "    <tr>\n",
       "      <th>5</th>\n",
       "      <td>J. K. Rowling</td>\n",
       "      <td>Harry Potter e a Câmara Secreta</td>\n",
       "      <td>59.9</td>\n",
       "    </tr>\n",
       "  </tbody>\n",
       "</table>\n",
       "</div>"
      ],
      "text/plain": [
       "            Autores                           Titulos  Preços\n",
       "0      Rick Riordan                 O ladrão de Raios    41.2\n",
       "1      J.K. Rowling  Harry Potter e a Pedra Filosofal    59.9\n",
       "2  Machado de Assis   Memórias Postumas de Brás Cubas    18.5\n",
       "3     J. K. Rowling   Harry Potter e a Câmara Secreta    59.9\n",
       "4     J. K. Rowling   Harry Potter e a Câmara Secreta    59.9\n",
       "5     J. K. Rowling   Harry Potter e a Câmara Secreta    59.9"
      ]
     },
     "execution_count": 46,
     "metadata": {},
     "output_type": "execute_result"
    }
   ],
   "source": [
    "df"
   ]
  },
  {
   "cell_type": "code",
   "execution_count": 47,
   "id": "4aecfe4e-b673-4c6d-89bc-837107fbe6d5",
   "metadata": {},
   "outputs": [
    {
     "name": "stdout",
     "output_type": "stream",
     "text": [
      "            Autores                           Titulos  Preços\n",
      "0      Rick Riordan                 O ladrão de Raios    41.2\n",
      "1      J.K. Rowling  Harry Potter e a Pedra Filosofal    59.9\n",
      "2  Machado de Assis   Memórias Postumas de Brás Cubas    18.5\n",
      "3     J. K. Rowling   Harry Potter e a Câmara Secreta    59.9\n",
      "4     J. K. Rowling   Harry Potter e a Câmara Secreta    59.9\n",
      "5     J. K. Rowling   Harry Potter e a Câmara Secreta    59.9\n"
     ]
    }
   ],
   "source": [
    "print(df)"
   ]
  },
  {
   "cell_type": "code",
   "execution_count": 48,
   "id": "d5e874c5-07da-4216-8815-326b75043e09",
   "metadata": {},
   "outputs": [],
   "source": [
    "## Remover o índice\n",
    "\n",
    "df = df.drop(index = 5)"
   ]
  },
  {
   "cell_type": "code",
   "execution_count": 49,
   "id": "1a7ff497-cf28-4379-b15f-5d19f82fc101",
   "metadata": {},
   "outputs": [],
   "source": [
    "df = df.drop(index= 4)"
   ]
  },
  {
   "cell_type": "code",
   "execution_count": 50,
   "id": "46461ab0-eeba-4403-93da-c23f23e46380",
   "metadata": {},
   "outputs": [
    {
     "data": {
      "text/html": [
       "<div>\n",
       "<style scoped>\n",
       "    .dataframe tbody tr th:only-of-type {\n",
       "        vertical-align: middle;\n",
       "    }\n",
       "\n",
       "    .dataframe tbody tr th {\n",
       "        vertical-align: top;\n",
       "    }\n",
       "\n",
       "    .dataframe thead th {\n",
       "        text-align: right;\n",
       "    }\n",
       "</style>\n",
       "<table border=\"1\" class=\"dataframe\">\n",
       "  <thead>\n",
       "    <tr style=\"text-align: right;\">\n",
       "      <th></th>\n",
       "      <th>Autores</th>\n",
       "      <th>Titulos</th>\n",
       "      <th>Preços</th>\n",
       "    </tr>\n",
       "  </thead>\n",
       "  <tbody>\n",
       "    <tr>\n",
       "      <th>0</th>\n",
       "      <td>Rick Riordan</td>\n",
       "      <td>O ladrão de Raios</td>\n",
       "      <td>41.2</td>\n",
       "    </tr>\n",
       "    <tr>\n",
       "      <th>1</th>\n",
       "      <td>J.K. Rowling</td>\n",
       "      <td>Harry Potter e a Pedra Filosofal</td>\n",
       "      <td>59.9</td>\n",
       "    </tr>\n",
       "    <tr>\n",
       "      <th>2</th>\n",
       "      <td>Machado de Assis</td>\n",
       "      <td>Memórias Postumas de Brás Cubas</td>\n",
       "      <td>18.5</td>\n",
       "    </tr>\n",
       "    <tr>\n",
       "      <th>3</th>\n",
       "      <td>J. K. Rowling</td>\n",
       "      <td>Harry Potter e a Câmara Secreta</td>\n",
       "      <td>59.9</td>\n",
       "    </tr>\n",
       "  </tbody>\n",
       "</table>\n",
       "</div>"
      ],
      "text/plain": [
       "            Autores                           Titulos  Preços\n",
       "0      Rick Riordan                 O ladrão de Raios    41.2\n",
       "1      J.K. Rowling  Harry Potter e a Pedra Filosofal    59.9\n",
       "2  Machado de Assis   Memórias Postumas de Brás Cubas    18.5\n",
       "3     J. K. Rowling   Harry Potter e a Câmara Secreta    59.9"
      ]
     },
     "execution_count": 50,
     "metadata": {},
     "output_type": "execute_result"
    }
   ],
   "source": [
    "df"
   ]
  },
  {
   "cell_type": "code",
   "execution_count": null,
   "id": "86e8077e-9e13-43ea-b8d6-0f87c57ef025",
   "metadata": {},
   "outputs": [],
   "source": []
  }
 ],
 "metadata": {
  "kernelspec": {
   "display_name": "Python 3 (ipykernel)",
   "language": "python",
   "name": "python3"
  },
  "language_info": {
   "codemirror_mode": {
    "name": "ipython",
    "version": 3
   },
   "file_extension": ".py",
   "mimetype": "text/x-python",
   "name": "python",
   "nbconvert_exporter": "python",
   "pygments_lexer": "ipython3",
   "version": "3.12.3"
  }
 },
 "nbformat": 4,
 "nbformat_minor": 5
}
