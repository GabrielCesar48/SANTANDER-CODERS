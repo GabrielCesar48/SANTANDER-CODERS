{
 "cells": [
  {
   "cell_type": "code",
   "execution_count": 1,
   "id": "4935970b-d996-4562-8622-9408bbafa36f",
   "metadata": {},
   "outputs": [],
   "source": [
    "import pandas as pd"
   ]
  },
  {
   "cell_type": "code",
   "execution_count": 2,
   "id": "de23d88c-6ede-4a26-8d5c-0ead0ce0e0c4",
   "metadata": {},
   "outputs": [],
   "source": [
    "lista = [12, 23, 34, 45, 56, 67]\n",
    "\n",
    "serie_pandas = pd.Series(lista)"
   ]
  },
  {
   "cell_type": "code",
   "execution_count": 3,
   "id": "6ec11dd8-7053-4428-8703-79bfb682f9bc",
   "metadata": {},
   "outputs": [
    {
     "name": "stdout",
     "output_type": "stream",
     "text": [
      "0    12\n",
      "1    23\n",
      "2    34\n",
      "3    45\n",
      "4    56\n",
      "5    67\n",
      "dtype: int64\n"
     ]
    }
   ],
   "source": [
    "print(serie_pandas)"
   ]
  },
  {
   "cell_type": "code",
   "execution_count": 4,
   "id": "b8e2b4c7-26b0-46d8-8bc6-157131ccb2ac",
   "metadata": {},
   "outputs": [
    {
     "name": "stdout",
     "output_type": "stream",
     "text": [
      "12\n"
     ]
    }
   ],
   "source": [
    "print(serie_pandas[0])"
   ]
  },
  {
   "cell_type": "code",
   "execution_count": 5,
   "id": "b867fe69-db9a-4ae3-a443-de36e4c1656a",
   "metadata": {},
   "outputs": [],
   "source": [
    "notas = {'Tiago' : 8, 'Gabriel' : 9.5, 'Joao' : 6.2, 'Eduardo' : 7.2}"
   ]
  },
  {
   "cell_type": "code",
   "execution_count": 6,
   "id": "55337068-0521-484f-8878-9e8d43f1c8bd",
   "metadata": {},
   "outputs": [],
   "source": [
    "serie_notas = pd.Series(notas)"
   ]
  },
  {
   "cell_type": "code",
   "execution_count": 8,
   "id": "50f9fe02-12e2-4d52-bc4a-4304f2982a27",
   "metadata": {},
   "outputs": [
    {
     "name": "stdout",
     "output_type": "stream",
     "text": [
      "9.5\n"
     ]
    }
   ],
   "source": [
    "print(serie_notas['Gabriel'])"
   ]
  },
  {
   "cell_type": "code",
   "execution_count": 9,
   "id": "e893b6f9-265e-4be2-88a3-4075da5a147a",
   "metadata": {},
   "outputs": [
    {
     "name": "stdout",
     "output_type": "stream",
     "text": [
      "count    4.000000\n",
      "mean     7.725000\n",
      "std      1.393736\n",
      "min      6.200000\n",
      "25%      6.950000\n",
      "50%      7.600000\n",
      "75%      8.375000\n",
      "max      9.500000\n",
      "dtype: float64\n"
     ]
    }
   ],
   "source": [
    "print(serie_notas.describe())"
   ]
  },
  {
   "cell_type": "code",
   "execution_count": 10,
   "id": "c4f4cb46-b817-406d-8e3e-c56d209f33ad",
   "metadata": {},
   "outputs": [
    {
     "name": "stdout",
     "output_type": "stream",
     "text": [
      "237\n"
     ]
    }
   ],
   "source": [
    "print(serie_pandas.sum())"
   ]
  },
  {
   "cell_type": "code",
   "execution_count": 11,
   "id": "5f039633-f0ae-441e-9b60-0e5676102835",
   "metadata": {},
   "outputs": [
    {
     "name": "stdout",
     "output_type": "stream",
     "text": [
      "30.9\n"
     ]
    }
   ],
   "source": [
    "print(serie_notas.sum())"
   ]
  },
  {
   "cell_type": "code",
   "execution_count": null,
   "id": "df0e22c9-7316-4458-8e23-d92ed418d55f",
   "metadata": {},
   "outputs": [],
   "source": []
  }
 ],
 "metadata": {
  "kernelspec": {
   "display_name": "Python 3 (ipykernel)",
   "language": "python",
   "name": "python3"
  },
  "language_info": {
   "codemirror_mode": {
    "name": "ipython",
    "version": 3
   },
   "file_extension": ".py",
   "mimetype": "text/x-python",
   "name": "python",
   "nbconvert_exporter": "python",
   "pygments_lexer": "ipython3",
   "version": "3.12.3"
  }
 },
 "nbformat": 4,
 "nbformat_minor": 5
}
