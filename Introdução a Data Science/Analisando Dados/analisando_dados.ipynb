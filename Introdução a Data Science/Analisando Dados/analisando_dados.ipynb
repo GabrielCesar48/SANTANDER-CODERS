{
 "cells": [
  {
   "cell_type": "code",
   "execution_count": 2,
   "id": "5966a377-2727-4e9d-b3b4-951297b8ac54",
   "metadata": {},
   "outputs": [],
   "source": [
    "import pandas as pd"
   ]
  },
  {
   "cell_type": "code",
   "execution_count": 3,
   "id": "3e566fcd-6435-4009-a8bf-85cc8a1a337d",
   "metadata": {},
   "outputs": [],
   "source": [
    "cotacoes = pd.read_excel(\"C:/Users/gabriel.pereira/Documents/Gabriel/SANTANDER CODERS/Introdução a Data Science/Analisando Dados/dados_cotacoes.xlsx\")\n"
   ]
  },
  {
   "cell_type": "code",
   "execution_count": 4,
   "id": "d9992f6d-4e74-47d1-bd35-26e864a0b021",
   "metadata": {},
   "outputs": [
    {
     "data": {
      "text/html": [
       "<div>\n",
       "<style scoped>\n",
       "    .dataframe tbody tr th:only-of-type {\n",
       "        vertical-align: middle;\n",
       "    }\n",
       "\n",
       "    .dataframe tbody tr th {\n",
       "        vertical-align: top;\n",
       "    }\n",
       "\n",
       "    .dataframe thead th {\n",
       "        text-align: right;\n",
       "    }\n",
       "</style>\n",
       "<table border=\"1\" class=\"dataframe\">\n",
       "  <thead>\n",
       "    <tr style=\"text-align: right;\">\n",
       "      <th></th>\n",
       "      <th>data</th>\n",
       "      <th>cod_empresa</th>\n",
       "      <th>id_cotacao</th>\n",
       "      <th>empresa</th>\n",
       "      <th>cotacao</th>\n",
       "      <th>cod_cliente</th>\n",
       "      <th>cod_vendedor</th>\n",
       "      <th>valor_unitario</th>\n",
       "      <th>valor_produtos</th>\n",
       "      <th>desconto</th>\n",
       "      <th>...</th>\n",
       "      <th>descricao_produto</th>\n",
       "      <th>obse</th>\n",
       "      <th>peso_total</th>\n",
       "      <th>qte_total</th>\n",
       "      <th>usuario</th>\n",
       "      <th>perdidos</th>\n",
       "      <th>abertos</th>\n",
       "      <th>motivo_perda</th>\n",
       "      <th>clibtipo</th>\n",
       "      <th>clibtdoc</th>\n",
       "    </tr>\n",
       "  </thead>\n",
       "  <tbody>\n",
       "    <tr>\n",
       "      <th>0</th>\n",
       "      <td>2024-05-20</td>\n",
       "      <td>6</td>\n",
       "      <td>63069473</td>\n",
       "      <td>006 - RN - VG2</td>\n",
       "      <td>3069473</td>\n",
       "      <td>78040</td>\n",
       "      <td>1001</td>\n",
       "      <td>158900000.0</td>\n",
       "      <td>3.178000e+14</td>\n",
       "      <td>0.0</td>\n",
       "      <td>...</td>\n",
       "      <td>ESMALTE SECA RAPIDO BRIL.BRANCO NEVE 3,6LT-SUV...</td>\n",
       "      <td>NaN</td>\n",
       "      <td>1.011000e+10</td>\n",
       "      <td>8000000.0</td>\n",
       "      <td>1001</td>\n",
       "      <td>NaN</td>\n",
       "      <td>63069473.0</td>\n",
       "      <td>NaN</td>\n",
       "      <td>12</td>\n",
       "      <td></td>\n",
       "    </tr>\n",
       "    <tr>\n",
       "      <th>1</th>\n",
       "      <td>2024-05-20</td>\n",
       "      <td>6</td>\n",
       "      <td>63069473</td>\n",
       "      <td>006 - RN - VG2</td>\n",
       "      <td>3069473</td>\n",
       "      <td>78040</td>\n",
       "      <td>1001</td>\n",
       "      <td>16000000.0</td>\n",
       "      <td>1.600000e+13</td>\n",
       "      <td>0.0</td>\n",
       "      <td>...</td>\n",
       "      <td>ROLO LA BAIXA BRASILEIRINHO 23CM AT2014-ATLAS ...</td>\n",
       "      <td>NaN</td>\n",
       "      <td>1.011000e+10</td>\n",
       "      <td>8000000.0</td>\n",
       "      <td>1001</td>\n",
       "      <td>NaN</td>\n",
       "      <td>63069473.0</td>\n",
       "      <td>NaN</td>\n",
       "      <td>12</td>\n",
       "      <td></td>\n",
       "    </tr>\n",
       "    <tr>\n",
       "      <th>2</th>\n",
       "      <td>2024-05-20</td>\n",
       "      <td>6</td>\n",
       "      <td>63069473</td>\n",
       "      <td>006 - RN - VG2</td>\n",
       "      <td>3069473</td>\n",
       "      <td>78040</td>\n",
       "      <td>1001</td>\n",
       "      <td>16430000.0</td>\n",
       "      <td>1.643000e+13</td>\n",
       "      <td>0.0</td>\n",
       "      <td>...</td>\n",
       "      <td>CABO P/ ROLO LA 23CM 400/23SR - ATLAS         ...</td>\n",
       "      <td>NaN</td>\n",
       "      <td>1.011000e+10</td>\n",
       "      <td>8000000.0</td>\n",
       "      <td>1001</td>\n",
       "      <td>NaN</td>\n",
       "      <td>63069473.0</td>\n",
       "      <td>NaN</td>\n",
       "      <td>12</td>\n",
       "      <td></td>\n",
       "    </tr>\n",
       "    <tr>\n",
       "      <th>3</th>\n",
       "      <td>2024-05-20</td>\n",
       "      <td>6</td>\n",
       "      <td>63069473</td>\n",
       "      <td>006 - RN - VG2</td>\n",
       "      <td>3069473</td>\n",
       "      <td>78040</td>\n",
       "      <td>1001</td>\n",
       "      <td>10410000.0</td>\n",
       "      <td>1.041000e+13</td>\n",
       "      <td>0.0</td>\n",
       "      <td>...</td>\n",
       "      <td>TRINCHA 2\" 395/5 - ATLAS                      ...</td>\n",
       "      <td>NaN</td>\n",
       "      <td>1.011000e+10</td>\n",
       "      <td>8000000.0</td>\n",
       "      <td>1001</td>\n",
       "      <td>NaN</td>\n",
       "      <td>63069473.0</td>\n",
       "      <td>NaN</td>\n",
       "      <td>12</td>\n",
       "      <td></td>\n",
       "    </tr>\n",
       "    <tr>\n",
       "      <th>4</th>\n",
       "      <td>2024-05-20</td>\n",
       "      <td>6</td>\n",
       "      <td>63069473</td>\n",
       "      <td>006 - RN - VG2</td>\n",
       "      <td>3069473</td>\n",
       "      <td>78040</td>\n",
       "      <td>1001</td>\n",
       "      <td>1740000.0</td>\n",
       "      <td>5.220000e+12</td>\n",
       "      <td>0.0</td>\n",
       "      <td>...</td>\n",
       "      <td>LIXA MASSA/MADEIRA G-150 (A257) - NORTON      ...</td>\n",
       "      <td>NaN</td>\n",
       "      <td>1.011000e+10</td>\n",
       "      <td>8000000.0</td>\n",
       "      <td>1001</td>\n",
       "      <td>NaN</td>\n",
       "      <td>63069473.0</td>\n",
       "      <td>NaN</td>\n",
       "      <td>12</td>\n",
       "      <td></td>\n",
       "    </tr>\n",
       "  </tbody>\n",
       "</table>\n",
       "<p>5 rows × 25 columns</p>\n",
       "</div>"
      ],
      "text/plain": [
       "        data  cod_empresa  id_cotacao         empresa  cotacao  cod_cliente  \\\n",
       "0 2024-05-20            6    63069473  006 - RN - VG2  3069473        78040   \n",
       "1 2024-05-20            6    63069473  006 - RN - VG2  3069473        78040   \n",
       "2 2024-05-20            6    63069473  006 - RN - VG2  3069473        78040   \n",
       "3 2024-05-20            6    63069473  006 - RN - VG2  3069473        78040   \n",
       "4 2024-05-20            6    63069473  006 - RN - VG2  3069473        78040   \n",
       "\n",
       "   cod_vendedor  valor_unitario  valor_produtos  desconto  ...  \\\n",
       "0          1001     158900000.0    3.178000e+14       0.0  ...   \n",
       "1          1001      16000000.0    1.600000e+13       0.0  ...   \n",
       "2          1001      16430000.0    1.643000e+13       0.0  ...   \n",
       "3          1001      10410000.0    1.041000e+13       0.0  ...   \n",
       "4          1001       1740000.0    5.220000e+12       0.0  ...   \n",
       "\n",
       "                                   descricao_produto obse    peso_total  \\\n",
       "0  ESMALTE SECA RAPIDO BRIL.BRANCO NEVE 3,6LT-SUV...  NaN  1.011000e+10   \n",
       "1  ROLO LA BAIXA BRASILEIRINHO 23CM AT2014-ATLAS ...  NaN  1.011000e+10   \n",
       "2  CABO P/ ROLO LA 23CM 400/23SR - ATLAS         ...  NaN  1.011000e+10   \n",
       "3  TRINCHA 2\" 395/5 - ATLAS                      ...  NaN  1.011000e+10   \n",
       "4  LIXA MASSA/MADEIRA G-150 (A257) - NORTON      ...  NaN  1.011000e+10   \n",
       "\n",
       "   qte_total  usuario perdidos     abertos  motivo_perda  clibtipo clibtdoc  \n",
       "0  8000000.0     1001      NaN  63069473.0           NaN        12           \n",
       "1  8000000.0     1001      NaN  63069473.0           NaN        12           \n",
       "2  8000000.0     1001      NaN  63069473.0           NaN        12           \n",
       "3  8000000.0     1001      NaN  63069473.0           NaN        12           \n",
       "4  8000000.0     1001      NaN  63069473.0           NaN        12           \n",
       "\n",
       "[5 rows x 25 columns]"
      ]
     },
     "execution_count": 4,
     "metadata": {},
     "output_type": "execute_result"
    }
   ],
   "source": [
    "cotacoes.head()"
   ]
  },
  {
   "cell_type": "code",
   "execution_count": 5,
   "id": "61776be7-e81a-4f13-8c30-e3d1fcace668",
   "metadata": {},
   "outputs": [],
   "source": [
    "soma_valor = cotacoes.groupby('abertos')['valor_produtos'].sum().reset_index()"
   ]
  },
  {
   "cell_type": "code",
   "execution_count": 8,
   "id": "6ae58034-ff7e-4a4a-8ae4-4fd27200481d",
   "metadata": {},
   "outputs": [],
   "source": [
    "soma_valor.columns = ['abertos', 'soma_valor_produtos']"
   ]
  },
  {
   "cell_type": "code",
   "execution_count": 9,
   "id": "ec4bfeb3-3b3b-4c35-a2e6-24c2e4b08e5e",
   "metadata": {},
   "outputs": [
    {
     "name": "stdout",
     "output_type": "stream",
     "text": [
      "           abertos  soma_valor_produtos\n",
      "0     1.303287e+07         2.698000e+14\n",
      "1     1.303319e+07         6.971520e+15\n",
      "2     1.303386e+07         3.436290e+15\n",
      "3     1.303417e+07         2.898000e+14\n",
      "4     1.303424e+07         1.383700e+15\n",
      "...            ...                  ...\n",
      "2124  1.003084e+09         3.338978e+16\n",
      "2125  1.003084e+09         1.410704e+16\n",
      "2126  1.003085e+09         1.523548e+16\n",
      "2127  1.003085e+09         1.961214e+16\n",
      "2128  1.003101e+09         3.792530e+15\n",
      "\n",
      "[2129 rows x 2 columns]\n"
     ]
    }
   ],
   "source": [
    "print(soma_valor)"
   ]
  },
  {
   "cell_type": "code",
   "execution_count": 11,
   "id": "fd3d7151-8ba2-41f3-8869-519582a94ac8",
   "metadata": {},
   "outputs": [],
   "source": [
    "total = soma_valor['soma_valor_produtos'].sum()"
   ]
  },
  {
   "cell_type": "code",
   "execution_count": 13,
   "id": "afddd388-b0c1-47f6-8b0e-e7aed347874a",
   "metadata": {
    "scrolled": true
   },
   "outputs": [
    {
     "name": "stdout",
     "output_type": "stream",
     "text": [
      "soma_valor: 5.155509478e+18\n"
     ]
    }
   ],
   "source": [
    "print(f'soma_valor: {total}')"
   ]
  },
  {
   "cell_type": "code",
   "execution_count": null,
   "id": "1c451866-9b31-4327-bac4-0687ce4f031b",
   "metadata": {},
   "outputs": [],
   "source": []
  }
 ],
 "metadata": {
  "kernelspec": {
   "display_name": "Python 3 (ipykernel)",
   "language": "python",
   "name": "python3"
  },
  "language_info": {
   "codemirror_mode": {
    "name": "ipython",
    "version": 3
   },
   "file_extension": ".py",
   "mimetype": "text/x-python",
   "name": "python",
   "nbconvert_exporter": "python",
   "pygments_lexer": "ipython3",
   "version": "3.12.3"
  }
 },
 "nbformat": 4,
 "nbformat_minor": 5
}
