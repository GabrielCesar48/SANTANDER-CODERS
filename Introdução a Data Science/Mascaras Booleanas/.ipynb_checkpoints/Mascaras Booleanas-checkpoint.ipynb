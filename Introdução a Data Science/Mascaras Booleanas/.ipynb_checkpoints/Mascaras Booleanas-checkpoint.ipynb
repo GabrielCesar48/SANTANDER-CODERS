{
 "cells": [
  {
   "cell_type": "code",
   "execution_count": 1,
   "id": "386c4485-f971-4e0d-88e8-115b6ecfe8fe",
   "metadata": {},
   "outputs": [],
   "source": [
    "import numpy as np"
   ]
  },
  {
   "cell_type": "code",
   "execution_count": 2,
   "id": "4fa38283-a4d3-4091-ab74-24ad58aa4063",
   "metadata": {},
   "outputs": [],
   "source": [
    "is_covid_positive = np.array(['Yes', 'No', 'No', 'Yes', 'Yes', 'No',])"
   ]
  },
  {
   "cell_type": "code",
   "execution_count": 3,
   "id": "703a3bbc-da1f-450f-8006-32e4fab61145",
   "metadata": {},
   "outputs": [],
   "source": [
    "mask = (is_covid_positive == 'Yes')"
   ]
  },
  {
   "cell_type": "code",
   "execution_count": 4,
   "id": "c27612fc-9c80-4e3e-99f6-dfc82d2e67ec",
   "metadata": {},
   "outputs": [],
   "source": [
    "is_covid_positive[mask] = 'C19'"
   ]
  },
  {
   "cell_type": "code",
   "execution_count": 5,
   "id": "c9ab42fd-7acc-48da-90ae-ece1b4f7c999",
   "metadata": {},
   "outputs": [
    {
     "name": "stdout",
     "output_type": "stream",
     "text": [
      "['C19' 'No' 'No' 'C19' 'C19' 'No']\n"
     ]
    }
   ],
   "source": [
    "print(is_covid_positive)"
   ]
  },
  {
   "cell_type": "code",
   "execution_count": 7,
   "id": "8dbcd4b8-7f9b-459d-874d-ee9f7917b957",
   "metadata": {},
   "outputs": [],
   "source": [
    "notas = np.array([4.9, 6.5, 3.2, 6.7])"
   ]
  },
  {
   "cell_type": "code",
   "execution_count": 9,
   "id": "6700de7d-d80f-47ca-b990-34cf814d5a68",
   "metadata": {},
   "outputs": [],
   "source": [
    "mask_notas = notas >= 5"
   ]
  },
  {
   "cell_type": "code",
   "execution_count": 10,
   "id": "b6de4329-ce67-45ee-b7c8-d171ac24333c",
   "metadata": {},
   "outputs": [
    {
     "name": "stdout",
     "output_type": "stream",
     "text": [
      "[False  True False  True]\n"
     ]
    }
   ],
   "source": [
    "print(mask_notas)"
   ]
  },
  {
   "cell_type": "code",
   "execution_count": null,
   "id": "d6aa4f6e-f299-40df-b86b-f296269f5607",
   "metadata": {},
   "outputs": [],
   "source": []
  }
 ],
 "metadata": {
  "kernelspec": {
   "display_name": "Python 3 (ipykernel)",
   "language": "python",
   "name": "python3"
  },
  "language_info": {
   "codemirror_mode": {
    "name": "ipython",
    "version": 3
   },
   "file_extension": ".py",
   "mimetype": "text/x-python",
   "name": "python",
   "nbconvert_exporter": "python",
   "pygments_lexer": "ipython3",
   "version": "3.12.3"
  }
 },
 "nbformat": 4,
 "nbformat_minor": 5
}
