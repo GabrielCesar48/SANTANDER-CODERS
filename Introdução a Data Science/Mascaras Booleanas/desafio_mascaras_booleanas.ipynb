{
 "cells": [
  {
   "cell_type": "code",
   "execution_count": 1,
   "id": "d99c1042-cd8c-4c3b-ac42-f20a025cc528",
   "metadata": {},
   "outputs": [],
   "source": [
    "##Montar lista com algumas notas e criar mascara para filtrar as pessoas que ficaram de recuperação"
   ]
  },
  {
   "cell_type": "code",
   "execution_count": 5,
   "id": "9d6de40a-16e6-4561-8d1b-cb61a9d2d1f5",
   "metadata": {},
   "outputs": [],
   "source": [
    "import numpy as np"
   ]
  },
  {
   "cell_type": "code",
   "execution_count": 13,
   "id": "fdb1d9b5-3620-4196-aef3-b886e7a3dd8b",
   "metadata": {},
   "outputs": [],
   "source": [
    "notas = np.array([4.6, 5.5, 6.4, 5.9, 7, 6.8, 5.9, 8.5, 10, 6])"
   ]
  },
  {
   "cell_type": "code",
   "execution_count": 15,
   "id": "853dc540-84d5-4166-b04f-ea9a7da5e61f",
   "metadata": {},
   "outputs": [],
   "source": [
    "em_recuperacao = notas < 6.0"
   ]
  },
  {
   "cell_type": "code",
   "execution_count": 16,
   "id": "698a18fd-aafc-43eb-987f-a11a4491f828",
   "metadata": {},
   "outputs": [
    {
     "name": "stdout",
     "output_type": "stream",
     "text": [
      "[ True  True False  True False False  True False False False]\n"
     ]
    }
   ],
   "source": [
    "print(em_recuperacao)"
   ]
  },
  {
   "cell_type": "code",
   "execution_count": 17,
   "id": "eef99b76-cc88-4330-a98b-fc5bedae814c",
   "metadata": {},
   "outputs": [],
   "source": [
    "qtde_alunos_em_recuperacao = np.sum(em_recuperacao)"
   ]
  },
  {
   "cell_type": "code",
   "execution_count": 20,
   "id": "004c5395-f06f-4472-b287-1cbf03fcb3c6",
   "metadata": {},
   "outputs": [
    {
     "name": "stdout",
     "output_type": "stream",
     "text": [
      "Alunos em recuperação: 4\n"
     ]
    }
   ],
   "source": [
    "print(f\"Alunos em recuperação: {qtde_alunos_em_recuperacao}\")"
   ]
  },
  {
   "cell_type": "code",
   "execution_count": null,
   "id": "156395f4-8b03-43b8-a638-de595eb9f5c4",
   "metadata": {},
   "outputs": [],
   "source": []
  }
 ],
 "metadata": {
  "kernelspec": {
   "display_name": "Python 3 (ipykernel)",
   "language": "python",
   "name": "python3"
  },
  "language_info": {
   "codemirror_mode": {
    "name": "ipython",
    "version": 3
   },
   "file_extension": ".py",
   "mimetype": "text/x-python",
   "name": "python",
   "nbconvert_exporter": "python",
   "pygments_lexer": "ipython3",
   "version": "3.12.3"
  }
 },
 "nbformat": 4,
 "nbformat_minor": 5
}
